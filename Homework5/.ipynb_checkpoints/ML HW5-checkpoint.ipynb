{
 "cells": [
  {
   "cell_type": "markdown",
   "metadata": {},
   "source": [
    "# COMPSCI 617 machine learning\n",
    "## Homework 5"
   ]
  },
  {
   "cell_type": "markdown",
   "metadata": {},
   "source": [
    "## Yiteng Lu"
   ]
  },
  {
   "cell_type": "markdown",
   "metadata": {},
   "source": [
    "## 1.Probabilistic Interpretation of Ridge Regression"
   ]
  },
  {
   "cell_type": "markdown",
   "metadata": {},
   "source": [
    "### 1.a"
   ]
  },
  {
   "cell_type": "markdown",
   "metadata": {},
   "source": [
    "### Answer"
   ]
  },
  {
   "cell_type": "markdown",
   "metadata": {},
   "source": [
    "$\\newcommand{\\bm}[1]{\\mathbf{#1}}\n",
    "l(\\beta) = ||\\bm{y} - \\bm{X}\\beta||_2^2 + \\lambda||\\beta||_2^2$\n",
    "<br>\n",
    "<br>\n",
    "$\n",
    "\\begin{align}\n",
    "l(\\beta) &= (\\bm{y} - \\bm{X}\\beta)^T(\\bm{y} - \\bm{X}\\beta) + \\lambda \\beta^T\\beta \\\\ \n",
    "&= \\big(\\bm{y}^T\\bm{y} - \\bm{y}^T\\bm{X}\\beta - \\beta^T \\bm{X}^T\\bm{y} + \\beta^T\\bm{X}^T\\bm{X}\\beta\\big) +\\lambda \\beta^T\\beta\n",
    "\\end{align}\n",
    "$\n",
    "<br>\n",
    "<br>\n",
    "$\n",
    "\\begin{align}\n",
    "\\frac{\\mathrm{d}l(\\beta)}{\\mathrm{d}\\beta} &= 0 - \\bm{y}^T\\bm{X} - \\big(\\bm{X}^T\\bm{y}\\big)^T + 2\\beta^T\\bm{X}^T\\bm{X} + 2\\lambda\\beta^T = 0 \\\\\n",
    "&= -2\\bm{y}^T\\bm{X} + 2\\beta^T\\bm{X}^T\\bm{X} + 2\\lambda\\beta^T = 0 \\\\\n",
    "&\\Rightarrow -\\bm{y}^T\\bm{X} + \\beta^T\\bm{X}^T\\bm{X} + \\lambda\\beta^T = 0 \\\\\n",
    "&\\Rightarrow \\beta^T\\big(\\bm{X}^T\\bm{X} + \\lambda\\bm{I}\\big) = \\bm{y}^T\\bm{X} \\\\\n",
    "&\\Rightarrow \\left[\\beta^T\\big(\\bm{X}^T\\bm{X} + \\lambda\\bm{I}\\big)\\right]^T = \\big(\\bm{y}^T\\bm{X}\\big)^T \\\\\n",
    "&\\Rightarrow \\big(\\bm{X}^T\\bm{X} + \\lambda\\bm{I}\\big)^T\\beta = \\bm{X}^T\\bm{y}\\\\\n",
    "&\\Rightarrow \\big(\\bm{X}^T\\bm{X} + \\lambda\\bm{I}\\big)\\beta = \\bm{X}^T\\bm{y} \\\\\n",
    "&\\Rightarrow \\beta =\\big(\\bm{X}^T\\bm{X} + \\lambda\\bm{I}\\big)^{-1} \\bm{X}^T\\bm{y}\n",
    "\\end{align} \n",
    "$"
   ]
  },
  {
   "cell_type": "markdown",
   "metadata": {},
   "source": [
    "### 1.b"
   ]
  },
  {
   "cell_type": "markdown",
   "metadata": {},
   "source": [
    "### Answer"
   ]
  },
  {
   "cell_type": "markdown",
   "metadata": {},
   "source": [
    "$\n",
    "\\begin{split}\n",
    "Pr(\\beta|\\bm{y},\\bm{X},\\lambda) &= \\cfrac{Pr(\\bm{y}|\\bm{X},\\beta) Pr(\\beta)}{Pr(\\bm{y})} \\\\\n",
    "& \\propto Pr(\\bm{y}|\\bm{X},\\beta) Pr(\\beta) \\\\\n",
    "& \\propto \\exp\\left\\{-\\frac{1}{2}(\\bm{y} - \\bm{X}\\beta)^T(\\bm{I}_{n\\times n})^{-1}(\\bm{y} - \\bm{X}\\beta)\\right\\} \\exp\\left\\{-\\frac{1}{2}(\\beta^T\\lambda \\bm{I} \\beta)\\right\\} \\\\\n",
    "& \\propto \\exp\\left\\{-\\frac{1}{2}(\\bm{y} - \\bm{X}\\beta)^T(\\bm{y} - \\bm{X}\\beta) -\\frac{1}{2}(\\beta^T \\lambda \\bm{I}\\beta)\\right\\} \\\\\n",
    "& \\propto  \\exp\\left\\{-\\frac{1}{2} \\left[(\\bm{y}^T - \\beta^T\\bm{X}^T)(\\bm{y} - \\bm{X}\\beta) + \\beta^T \\lambda \\bm{I}\\beta \\right] \\right\\} \\\\\n",
    "& \\propto  \\exp\\left\\{-\\frac{1}{2} \\left[(\\bm{y}^T\\bm{y} - \\bm{y}^T\\bm{X}\\beta - \\beta^T\\bm{X}^T\\bm{y} + \\beta^T\\bm{X}^T\\bm{X}\\beta) + \\beta^T \\lambda \\bm{I}\\beta \\right] \\right\\} \\\\\n",
    "&\\propto  \\exp\\left\\{-\\frac{1}{2}\\bm{y}^T\\bm{y}\\right\\} \\exp\\left\\{-\\frac{1}{2} \\left[- \\bm{y}^T\\bm{X}\\beta - \\beta^T\\bm{X}^T\\bm{y} + \\beta^T\\bm{X}^T\\bm{X}\\beta + \\beta^T \\lambda \\bm{I}\\beta \\right] \\right\\} \\\\\n",
    "&\\propto \\exp\\left\\{-\\frac{1}{2} \\left[- \\bm{y}^T\\bm{X}\\beta - \\beta^T\\bm{X}^T\\bm{y} + \\beta^T\\bm{X}^T\\bm{X}\\beta + \\beta^T \\lambda \\bm{I}\\beta \\right] \\right\\}      \\ \\ \\ \\ \\ \\ \\ \\ \\  \\ \\ (1)  \\\\\n",
    "\\end{split}\n",
    "$\n",
    "<br>\n",
    "Analysis:\n",
    "<br>\n",
    "$\n",
    "\\bm{y}^T\\bm{X}\\beta = (\\beta^T\\bm{X}^T\\bm{y})^T, \\ \n",
    "$\n",
    "$\\bm{y}$ is a $n \\times 1$ vector, $\\bm{X}$ is a $n \\times p$ matrix, $\\beta$ is a $p \\times 1$ vector;\n",
    "<br>\n",
    "$\n",
    "\\bm{y}^T\\bm{X}\\beta: (1 \\times n) (n \\times p) (p \\times 1) = 1 \\times 1 \n",
    "$\n",
    "which implies $\\bm{y}^T\\bm{X}\\beta$ is a scalar, and the transpose of a scalar is itself, \n",
    "<br>\n",
    "therefore $\\beta^T\\bm{X}^T\\bm{y} = \\bm{y}^T\\bm{X}\\beta\n",
    "$\n",
    "<br>\n",
    "<br>\n",
    "$\n",
    "\\begin{align*}\n",
    "\\ \\ \\ \\ \\ \\ \\ \\ \\ \\ \\ \\ \\ \\ \\ \\ \\ \\ \\  &\\propto \\exp\\left\\{-\\frac{1}{2} \\left[ -2\\beta^T\\bm{X}^T\\bm{y} + \\beta^T\\bm{X}^T\\bm{X}\\beta + \\beta^T \\lambda \\bm{I}\\beta \\right] \\right\\} \\\\\n",
    "&\\propto \\exp\\left\\{-\\frac{1}{2} \\left[ -2\\beta^T\\bm{X}^T\\bm{y} + \\beta^T(\\bm{X}^T\\bm{X}+\\lambda \\bm{I})\\beta \\right] \\right\\}\n",
    "\\end{align*}\n",
    "$"
   ]
  },
  {
   "cell_type": "markdown",
   "metadata": {},
   "source": [
    "### 1.c"
   ]
  },
  {
   "cell_type": "markdown",
   "metadata": {},
   "source": [
    "### Answer"
   ]
  },
  {
   "cell_type": "markdown",
   "metadata": {},
   "source": [
    "Now we start from the equation $(1)$ which was derived in the middle of the proof from problem 1.b"
   ]
  },
  {
   "cell_type": "markdown",
   "metadata": {},
   "source": [
    "$\n",
    "\\begin{align}\n",
    "Pr(\\beta|\\bm{y},\\bm{X},\\lambda) &\\propto \\exp\\left\\{-\\frac{1}{2} \\left[- \\bm{y}^T\\bm{X}\\beta - \\beta^T\\bm{X}^T\\bm{y} + \\beta^T\\bm{X}^T\\bm{X}\\beta + \\beta^T \\lambda \\bm{I}\\beta \\right] \\right\\} \\\\\n",
    "&\\propto \\exp\\left\\{-\\frac{1}{2} \\left[- \\bm{y}^T\\bm{X}\\beta - \\beta^T\\bm{X}^T\\bm{y} + \\beta^T(\\bm{X}^T\\bm{X}+\\lambda \\bm{I})\\beta \\right] \\right\\} \\\\\n",
    "& \\propto \\exp\\left\\{-\\frac{1}{2} \\left[- \\bm{y}^T\\bm{X}\\beta - \\beta^T\\bm{X}^T\\bm{y} + \\beta^T(\\bm{X}^T\\bm{X}+\\lambda \\bm{I})\\beta \\right] \\right\\} \\exp\\left\\{-\\frac{1}{2} \\left[\\bm{y}^T\\bm{X}(\\bm{X}^T\\bm{X}+\\lambda \\bm{I})^{-1}\\bm{X}^T\\bm{y}\\right]\\right\\} \\\\\n",
    "& \\propto \\exp\\left\\{-\\frac{1}{2} \\left[- \\bm{y}^T\\bm{X}\\beta - \\beta^T\\bm{X}^T\\bm{y} + \\beta^T(\\bm{X}^T\\bm{X}+\\lambda \\bm{I})\\beta  + \\bm{y}^T\\bm{X}(\\bm{X}^T\\bm{X}+\\lambda \\bm{I})^{-1}\\bm{X}^T\\bm{y} \\right]\\right\\}  \\\\\n",
    "& \\propto \\exp\\left\\{-\\frac{1}{2} \\left[\\beta^T(\\bm{X}^T\\bm{X}+\\lambda \\bm{I})\\beta - \\beta^T\\bm{X}^T\\bm{y} - \\bm{y}^T\\bm{X}\\beta + \\bm{y}^T\\bm{X}(\\bm{X}^T\\bm{X}+\\lambda \\bm{I})^{-1}\\bm{X}^T\\bm{y} \\right]\\right\\} \\\\\n",
    "& \\propto \\exp\\left\\{-\\frac{1}{2} \\left[\\beta^T(\\bm{X}^T\\bm{X}+\\lambda \\bm{I})\\big(\\beta - (\\bm{X}^T\\bm{X}+\\lambda \\bm{I})^{-1}\\bm{X}^T\\bm{y}\\big) - \\bm{y}^T\\bm{X}\\big(\\beta - (\\bm{X}^T\\bm{X}+\\lambda \\bm{I})^{-1}\\bm{X}^T\\bm{y}\\big) \\right]\\right\\} \\\\\n",
    "& \\propto \\exp\\left\\{-\\frac{1}{2} \\left[\\big(\\beta^T(\\bm{X}^T\\bm{X}+\\lambda \\bm{I}) - \\bm{y}^T\\bm{X}\\big)\\big(\\beta - (\\bm{X}^T\\bm{X}+\\lambda \\bm{I})^{-1}\\bm{X}^T\\bm{y}\\big) \\right]\\right\\} \\\\\n",
    "& \\propto \\exp\\left\\{-\\frac{1}{2} \\left[\\big(\\beta^T- \\bm{y}^T\\bm{X}(\\bm{X}^T\\bm{X}+\\lambda \\bm{I})^{-1}\\big)\\big(\\bm{X}^T\\bm{X}+\\lambda \\bm{I}\\big) \\big(\\beta - (\\bm{X}^T\\bm{X}+\\lambda \\bm{I})^{-1}\\bm{X}^T\\bm{y}\\big) \\right]\\right\\} \\\\\n",
    "& \\propto \\exp\\left\\{-\\frac{1}{2} \\left[\\big(\\beta- \\left[(\\bm{X}^T\\bm{X}+\\lambda \\bm{I})^{-1}\\right]^T\\bm{X}^T\\bm{y}\\big)^T\\big(\\bm{X}^T\\bm{X}+\\lambda \\bm{I}\\big) \\big(\\beta - (\\bm{X}^T\\bm{X}+\\lambda \\bm{I})^{-1}\\bm{X}^T\\bm{y}\\big) \\right]\\right\\} \\\\\n",
    "\\end{align}\n",
    "$"
   ]
  },
  {
   "cell_type": "markdown",
   "metadata": {},
   "source": [
    "Analysis:\n",
    "<br>\n",
    "$\\bm{X}^T\\bm{X}$ is a symmetric matrix because $\\big(\\bm{X}^T\\bm{X}\\big)^T =\\bm{X}^T\\bm{X}  $\n",
    "<br>\n",
    "$\\lambda \\bm{I}$ is also a symmetric matrix because $\\bm{I}$ is an identity matrix \n",
    "<br>\n",
    "The sum of two symmetric matrices is also a symmetric matrix;\n",
    "<br>\n",
    "Thus we have the following:\n",
    "$$\n",
    "\\big(\\bm{X}^T\\bm{X}+ \\lambda\\bm{I}\\big)\\big(\\bm{X}^T\\bm{X}+ \\lambda\\bm{I}\\big)^{-1} = \\left[\\big(\\bm{X}^T\\bm{X}+ \\lambda\\bm{I}\\big)\\big(\\bm{X}^T\\bm{X}+ \\lambda\\bm{I}\\big)^{-1}\\right]^T = \\bm{I} \n",
    "$$\n",
    "$$\n",
    "\\big(\\bm{X}^T\\bm{X}+ \\lambda\\bm{I}\\big)\\big(\\bm{X}^T\\bm{X}+ \\lambda\\bm{I}\\big)^{-1} = \\left[\\big(\\bm{X}^T\\bm{X}+ \\lambda\\bm{I}\\big)^{-1}\\right]^T \\big(\\bm{X}^T\\bm{X}+ \\lambda\\bm{I}\\big)^T\n",
    "$$\n",
    "Since we have $\\big(\\bm{X}^T\\bm{X}+ \\lambda\\bm{I}\\big)\\big(\\bm{X}^T\\bm{X}+ \\lambda\\bm{I}\\big)^{-1} = \\big(\\bm{X}^T\\bm{X}+ \\lambda\\bm{I}\\big)^{-1}\\big(\\bm{X}^T\\bm{X}+ \\lambda\\bm{I}\\big)$ and $\\big(\\bm{X}^T\\bm{X}+ \\lambda\\bm{I}\\big)^T  = \\big(\\bm{X}^T\\bm{X}+ \\lambda\\bm{I}\\big)$:\n",
    "$$\n",
    "\\big(\\bm{X}^T\\bm{X}+ \\lambda\\bm{I}\\big)^{-1}\\big(\\bm{X}^T\\bm{X}+ \\lambda\\bm{I}\\big)= \\left[\\big(\\bm{X}^T\\bm{X}+ \\lambda\\bm{I}\\big)^{-1}\\right]^T \\big(\\bm{X}^T\\bm{X}+ \\lambda\\bm{I}\\big)\n",
    "$$\n",
    "Multiply both sides by $\\big(\\bm{X}^T\\bm{X}+ \\lambda\\bm{I}\\big)^{-1}$ we have:\n",
    "$$\n",
    "\\big(\\bm{X}^T\\bm{X}+ \\lambda\\bm{I}\\big)^{-1} = \\left[\\big(\\bm{X}^T\\bm{X}+ \\lambda\\bm{I}\\big)^{-1}\\right]^T \n",
    "$$"
   ]
  },
  {
   "cell_type": "markdown",
   "metadata": {},
   "source": [
    "$\n",
    "\\begin{split}\n",
    "\\ \\ \\ \\ \\ \\ \\ \\ \\ \\ \\ \\ \\ \\ \\ \\ \\ \\ \\  \\ \\ \\ & \\propto \\exp\\left\\{-\\frac{1}{2} \\left[\\big(\\beta- (\\bm{X}^T\\bm{X}+\\lambda \\bm{I})^{-1}\\bm{X}^T\\bm{y}\\big)^T\\big(\\bm{X}^T\\bm{X}+\\lambda \\bm{I}\\big) \\big(\\beta - (\\bm{X}^T\\bm{X}+\\lambda \\bm{I})^{-1}\\bm{X}^T\\bm{y}\\big) \\right]\\right\\} \\\\\n",
    "\\end{split}\n",
    "$"
   ]
  },
  {
   "cell_type": "markdown",
   "metadata": {},
   "source": [
    "### 1.d"
   ]
  },
  {
   "cell_type": "markdown",
   "metadata": {},
   "source": [
    "### Answer"
   ]
  },
  {
   "cell_type": "markdown",
   "metadata": {},
   "source": [
    "The distribution is multivariate normal distribution with $\\bm{\\mu} = (\\bm{X}^T\\bm{X}+\\lambda \\bm{I})^{-1}\\bm{X}^T\\bm{y}$ ;  $\\bm{\\Sigma} = (\\bm{X}^T\\bm{X}+\\lambda \\bm{I})^{-1}$ ;\n",
    "<br>\n",
    "The normal distribution reaches its maximum when $\\beta$ equal the mean of the distribution:\n",
    "<br>\n",
    "$$\n",
    "\\beta^* = (\\bm{X}^T\\bm{X}+\\lambda \\bm{I})^{-1}\\bm{X}^T\\bm{y}\n",
    "$$\n"
   ]
  },
  {
   "cell_type": "markdown",
   "metadata": {},
   "source": []
  }
 ],
 "metadata": {
  "kernelspec": {
   "display_name": "Python 3",
   "language": "python",
   "name": "python3"
  },
  "language_info": {
   "codemirror_mode": {
    "name": "ipython",
    "version": 3
   },
   "file_extension": ".py",
   "mimetype": "text/x-python",
   "name": "python",
   "nbconvert_exporter": "python",
   "pygments_lexer": "ipython3",
   "version": "3.7.1"
  }
 },
 "nbformat": 4,
 "nbformat_minor": 2
}
