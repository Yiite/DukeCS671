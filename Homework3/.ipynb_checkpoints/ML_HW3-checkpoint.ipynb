{
 "cells": [
  {
   "cell_type": "markdown",
   "metadata": {},
   "source": [
    "# COMPSIC 617 Spring 2019\n",
    "## Homework 3\n",
    "## Yiteng Lu"
   ]
  },
  {
   "cell_type": "markdown",
   "metadata": {},
   "source": [
    "## 1. Probit Classification "
   ]
  },
  {
   "cell_type": "markdown",
   "metadata": {},
   "source": [
    "### 1.a"
   ]
  },
  {
   "cell_type": "markdown",
   "metadata": {},
   "source": [
    "<font size = 3.5>\n",
    "Given $Y = \\begin{cases} 1 &\\mbox{if } Z > 0\\\\ 0 &\\mbox{otherwise} \\end{cases}$ and $Z = \\bf{x}\\beta + \\epsilon \\ \\ $,  then $\\mathrm{Pr}(Y=1|\\mathbf{x}) = \\mathrm{Pr}(Z > 0) = \\mathrm{Pr}(Z = \\bf{x}\\beta + \\epsilon > \\mathrm{0})$ \n",
    "<br>\n",
    "<br>\n",
    "$\\Rightarrow  \\mathrm{Pr}(\\bf{x}\\beta + \\epsilon > \\mathrm{0}) =\\mathrm{Pr}(\\epsilon > -\\bf{x}\\beta) $  \n",
    "<br>\n",
    "<br>\n",
    "Because $\\epsilon$ belongs to a standard nomral $\\mathcal{N}(0, 1)$, $\\mathrm{Pr}(\\epsilon > -\\bf{x}\\beta) = \\mathrm{1} - \\mathrm{Pr}(\\epsilon <-\\bf{x}\\beta)  = \\mathrm{1} - \\mathrm{\\Phi(-\\bf{x}\\beta)} =\\mathrm{\\Phi(\\bf{x}\\beta)}$\n",
    "<br>\n",
    "<br>\n",
    "Therefore: $\\Pr(Y=1|\\bf{x}) = \\mathrm{\\Phi(\\bf{x}\\beta)}$\n",
    "</font>"
   ]
  },
  {
   "cell_type": "markdown",
   "metadata": {},
   "source": [
    "### 1.b"
   ]
  },
  {
   "cell_type": "markdown",
   "metadata": {},
   "source": [
    "<font size = 3.5>\n",
    "$Y \\sim Bernoulli(p), p = \\Phi(\\bf{x}\\beta)： \\\\ $\n",
    "<br>\n",
    "$f(y|\\bf{x},\\beta) $ $=$ ${\\Phi(\\bf{x}\\beta)}^y{(1-\\Phi(\\bf{x}\\beta))}^{1-y}$, for $y=0,1$\n",
    "<br>\n",
    "<br>\n",
    "\n",
    "$\n",
    "L(\\beta) = \\mathrm{Pr}(Y=y_1... Y=y_n | \\beta, x_1...x_n) = \\displaystyle \\prod_{i=1}^N {\\Phi(\\bf{x_i}\\beta)}^{y_i}{(1-\\Phi(\\bf{x_i}\\beta))}^{1-y_i}  \\\\\n",
    "\\begin{align}\n",
    "logL(\\beta) &= log \\displaystyle \\prod_{i=1}^N {\\Phi(\\bf{x_i}\\beta)}^{y_i}{(1-\\Phi(\\bf{x_i}\\beta))}^{1-y_i}  \\\\\n",
    "            &= \\displaystyle \\sum_{i=1}^N log {\\Phi(\\bf{x_i}\\beta)}^{y_i}{(1-\\Phi(\\bf{x_i}\\beta))}^{1-y_i} \\\\\n",
    "            &=\\displaystyle \\sum_{i=1}^N log {\\Phi(\\bf{x_i}\\beta)}^{y_i} + log{(1-\\Phi(\\bf{x_i}\\beta))}^{1-y_i}\\\\\n",
    "            &=\\displaystyle \\sum_{i=1}^N log {\\Phi(\\bf{x_i}\\beta)}^{y_i} + log{(\\Phi(-\\bf{x_i}\\beta))}^{1-y_i} \\\\\n",
    "            &=\\displaystyle \\sum_{i=1}^N y_i\\  log {\\Phi(\\bf{x_i}\\beta)} + {(1-y_i)} \\ log{(\\Phi(-\\bf{x_i}\\beta))}\n",
    "\\end{align}\n",
    "$\n",
    "\n",
    "</font>"
   ]
  },
  {
   "cell_type": "markdown",
   "metadata": {},
   "source": [
    "### 1.c "
   ]
  },
  {
   "cell_type": "markdown",
   "metadata": {},
   "source": [
    "<font size=4.5>\n",
    "$\\frac{\\partial -\\log\\Phi(a)}{\\partial a} = -\\frac{\\phi(a)}{\\Phi{a}}$\n",
    "<br>\n",
    "<br>\n",
    "$\\frac{\\partial^2-\\log(\\Phi(a))}{\\partial a^2} =\\frac{\\partial -\\frac{\\phi(a)}{\\Phi{a}}}{\\partial a} =-\\frac{-a\\Phi{(a)}-(\\phi{(a)})^2}{(\\Phi(a))^2} =\\frac{a\\Phi{(a)}+(\\phi{(a)})^2}{(\\Phi(a))^2} $\n",
    "<br>\n",
    "</font>\n",
    "<br>\n",
    "Given $a\\Phi(a) + \\phi(a) > 0\\;\\text{and } \\phi(a) >0 \\;\\forall a $:\n",
    "<br>\n",
    "$$\n",
    "\\\\\n",
    "\\\\\n",
    "a\\Phi{(a)}+(\\phi{(a)})^2 = \\phi{(a)}[a\\Phi{(a)} + \\phi{(a)}] \\geq 0\n",
    "$$\n",
    "<br>\n",
    "The denominator is ($\\Phi{(x)})^2$ , so $\\frac{\\partial^2-\\log(\\Phi(a))}{\\partial a^2} = \\frac{a\\Phi{(a)}+(\\phi{(a)})^2}{(\\Phi(a))^2} \\geq 0 $ which indicates that $\\log\\Phi{(a)}$ is convex for all $a$.\n"
   ]
  },
  {
   "cell_type": "markdown",
   "metadata": {},
   "source": [
    "### 1.d\n"
   ]
  },
  {
   "cell_type": "markdown",
   "metadata": {},
   "source": [
    "<font size=4.5>\n",
    "$\\frac{\\partial -\\log \\mathcal{L}(\\beta)}{\\partial \\beta} = \\sum_{i=1}^N y_i\\frac{\\phi({\\mathbf{x}_i},\\beta)}{\\Phi(\\mathbf{x}_i\\beta)} + (1-y_i)\\frac{-\\phi{(\\mathbf{x}_i\\beta)}}{1- (\\Phi(\\mathbf{x}_i\\beta))}$\n",
    "<font>"
   ]
  },
  {
   "cell_type": "markdown",
   "metadata": {},
   "source": [
    "## 2. Adaboost with $L_2$ Loss"
   ]
  },
  {
   "cell_type": "markdown",
   "metadata": {},
   "source": [
    "### 2.a "
   ]
  },
  {
   "cell_type": "markdown",
   "metadata": {},
   "source": [
    "$\n",
    "\\DeclareMathOperator*{\\argmax}{arg\\,max}\n",
    "\\begin{align}\n",
    "\\argmax\\limits_{j=1,\\dots,m} \\left[-\\frac{\\partial}{\\partial \\alpha}L({\\mathbf{\\lambda}} + \\alpha\\mathbf{e}_j)\\right]\\biggr|_{\\alpha = 0} &= \\argmax\\limits_{j=1,\\dots,m} \\left[-\\frac{\\partial}{\\partial \\alpha} \\frac{1}{n}\\sum_{i=1}^n [y_i - h(\\mathbf{x}_i)({\\mathbf{\\lambda}} + \\alpha\\mathbf{e}_j)]^2\\right]\\biggr|_{\\alpha = 0} \\\\\n",
    "                                               &=\\argmax\\limits_{j=1,\\dots,m} \\left[-\\frac{2}{n}\\sum_{i=1}^n [y_i - h(\\mathbf{x}_i)\\mathbf{({\\lambda}} + \\alpha\\mathbf{e}_j)][-h(\\mathbf{x}_i) \\mathbf{e}_j]\\right]\\biggr|_{\\alpha = 0}\\\\\n",
    "                                               &=\\argmax\\limits_{j=1,\\dots,m} \\left[\\sum_{i=1}^n [y_i - h(\\mathbf{x}_i)\\mathbf{({\\lambda}} + \\alpha\\mathbf{e}_j)]h_j(\\mathbf{x}_i)\\right]\\biggr|_{\\alpha = 0} \\\\\n",
    "                                               &=\\argmax\\limits_{j=1,\\dots,m} \\left[\\sum_{i=1}^n [y_i - h(\\mathbf{x}_i)\\mathbf{{\\lambda}}]h_j(\\mathbf{x}_i)\\right]\\\\\n",
    "                                               &=\\argmax\\limits_{j=1,\\dots,m} \\left[\\sum_{i=1}^n y_ih_j(\\mathbf{x}_i) - h_j(\\mathbf{x}_i)h(\\mathbf{x}_i)\\mathbf{{\\lambda}}\\right] \\\\\n",
    "                                               &=\\argmax\\limits_{j=1,\\dots,m} \\left[\\sum_{i=1}^n y_ih_j(\\mathbf{x}_i) - \\sum_{i=1}^nh_j(\\mathbf{x}_i)h(\\mathbf{x}_i)\\mathbf{{\\lambda}}\\right]\n",
    "\\end{align}\n",
    "$"
   ]
  },
  {
   "cell_type": "markdown",
   "metadata": {},
   "source": []
  }
 ],
 "metadata": {
  "kernelspec": {
   "display_name": "Python 3",
   "language": "python",
   "name": "python3"
  },
  "language_info": {
   "codemirror_mode": {
    "name": "ipython",
    "version": 3
   },
   "file_extension": ".py",
   "mimetype": "text/x-python",
   "name": "python",
   "nbconvert_exporter": "python",
   "pygments_lexer": "ipython3",
   "version": "3.6.0"
  }
 },
 "nbformat": 4,
 "nbformat_minor": 2
}
