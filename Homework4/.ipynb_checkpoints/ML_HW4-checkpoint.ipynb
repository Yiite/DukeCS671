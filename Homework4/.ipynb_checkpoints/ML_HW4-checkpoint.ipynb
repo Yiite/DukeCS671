{
 "cells": [
  {
   "cell_type": "markdown",
   "metadata": {},
   "source": [
    "# COMPSCI 671 Srping 2019"
   ]
  },
  {
   "cell_type": "markdown",
   "metadata": {},
   "source": [
    "## HW 4"
   ]
  },
  {
   "cell_type": "markdown",
   "metadata": {},
   "source": [
    "### Yiteng Lu "
   ]
  },
  {
   "cell_type": "markdown",
   "metadata": {},
   "source": [
    "## 1. Convexity I "
   ]
  },
  {
   "cell_type": "markdown",
   "metadata": {},
   "source": [
    "### 1.1  Answer:"
   ]
  },
  {
   "cell_type": "markdown",
   "metadata": {},
   "source": [
    "Suppose function $f$ and $g$ are convex functions, thus we have:\n",
    "<br>\n",
    "<br>\n",
    "$\n",
    "f\\big(\\theta\\mathbf{x}+(1-\\theta)\\mathbf{z}\\big) \\leq \\theta{f(\\mathbf{x})+(1-\\theta)f(\\mathbf{z})} \\\\\n",
    "g\\big(\\theta\\mathbf{x}+(1-\\theta)\\mathbf{z}\\big) \\leq \\theta{g(\\mathbf{x})+(1-\\theta)g(\\mathbf{z})}\n",
    "$\n",
    "<br>\n",
    "<br>\n",
    "Suppose $h(x) = f(x) + g(x)$, then we have:\n",
    "<br>\n",
    "<br>\n",
    "$\n",
    "\\begin{align}\n",
    "h\\big(\\theta\\mathbf{x}+(1-\\theta)\\mathbf{z}\\big) &= f\\big(\\theta\\mathbf{x}+(1-\\theta)\\mathbf{z}\\big)  + g\\big(\\theta\\mathbf{x}+(1-\\theta)\\mathbf{z}\\big)\\\\\n",
    "&\\leq \\theta{f(\\mathbf{x})+(1-\\theta)f(\\mathbf{z})}+\\theta{g(\\mathbf{x})+(1-\\theta)g(\\mathbf{z})} \\\\\n",
    "&\\leq \\theta (f(\\mathbf{x})+g(\\mathbf{x})) + (1-\\theta)(f(\\mathbf{z})+g(\\mathbf{z})) \\\\\n",
    "&\\leq \\theta h(\\mathbf{x}) + (1-\\theta)h(\\mathbf{z})\n",
    "\\end{align}\n",
    "$\n",
    "<br>\n",
    "<br>\n",
    "$h\\big(\\theta\\mathbf{x}+(1-\\theta)\\mathbf{z}\\big) \\leq \\theta h(\\mathbf{x}) + (1-\\theta)h(\\mathbf{z})$ fullfills the definition of a convex function, thus we can conclude that the sum of two convex functions is also convex.\n",
    "</font>"
   ]
  },
  {
   "cell_type": "markdown",
   "metadata": {},
   "source": [
    "### 1.2 Answer:"
   ]
  },
  {
   "cell_type": "markdown",
   "metadata": {},
   "source": [
    "Given $f(x) =$, to prove $f$ is convex, prove $ f\\big(\\theta x+(1-\\theta)z\\big) \\leq \\theta{f(x)+(1-\\theta)f(z)}$ \n",
    "\n",
    "\n",
    "\n",
    "\n",
    "\n",
    "\n"
   ]
  },
  {
   "cell_type": "markdown",
   "metadata": {},
   "source": [
    "###  $\\cdot h$ is convex and $g_i$ is convex and h is increasing in its $i$-th compoenent:\n",
    "<br>\n",
    "Proof:\n",
    "<br>\n",
    "Becase $h$ is a convex function, we have:\n",
    "<br>\n",
    "<br>\n",
    "$\n",
    "\\begin{align}\n",
    "h(\\theta g_1(x)+(1-\\theta)g_1(z),\\theta g_2(x)+(1-\\theta)g_2(z), ... \\theta g_n(x)+(1-\\theta)g_n(z)) &\\leq \\theta  h(g_1(x),g_2(x),..,g_n(x)) + (1-\\theta) h(g_1(z),g_2(z),..,g_n(z)) \\\\\n",
    "&  \\leq \\theta{f(x)+(1-\\theta)f(z)}\n",
    "\\end{align}\n",
    "$\n",
    "<br>\n",
    "<br>\n",
    "Becuase $g_i$ is convex, we have:\n",
    "<br>\n",
    "<br>\n",
    "$\n",
    "g_n(\\theta x + (1-\\theta)z) \\leq \\theta g_n(x) + (1-\\theta)g_n(z)\n",
    "$\n",
    "<br>\n",
    "<br>\n",
    "Because $h$ is increasing in each $i$th compoenent, so we have:\n",
    "<br>\n",
    "<br>\n",
    "$\n",
    "\\begin{align}\n",
    "h(g_1(\\theta x + (1-\\theta)z),g_2(g_n(\\theta x + (1-\\theta)z)),...g_n(\\theta x + (1-\\theta)z))&\\leq h(\\theta g_1(x)+(1-\\theta)g_1(z),\\theta g_2(x)+(1-\\theta)g_2(z), ... \\theta g_n(x)+(1-\\theta)g_n(z))\\\\\n",
    "f \\big(\\theta x+(1-\\theta)z\\big) &\\leq\n",
    "\\end{align}\n",
    "$\n",
    "<br>\n",
    "<br>\n",
    "Therefore, accodring to the transitivity of inequalities:\n",
    "<br>\n",
    "<br>\n",
    "$\n",
    "f \\big(\\theta x+(1-\\theta)z\\big) \\leq h(\\theta g_1(x)+(1-\\theta)g_1(z),\\theta g_2(x)+(1-\\theta)g_2(z), ... \\theta g_n(x)+(1-\\theta)g_n(z)) \\leq \\theta{f(x)+(1-\\theta)f(z)}\n",
    "$\n",
    "<br>\n",
    "<br>\n",
    "$f \\big(\\theta x+(1-\\theta)z\\big)  \\leq   \\theta{f(x)+(1-\\theta)f(z)} $\n",
    "<br>\n",
    "<br>\n",
    "$f$ is convex "
   ]
  },
  {
   "cell_type": "markdown",
   "metadata": {},
   "source": [
    "###  $\\cdot h$ is convex and $g_i$ is affine functions:\n",
    "<br>\n",
    "Proof:\n",
    "<br>\n",
    "Becase $h$ is a convex function, we have:\n",
    "<br>\n",
    "<br>\n",
    "$\n",
    "\\begin{align}\n",
    "h(\\theta g_1(x)+(1-\\theta)g_1(z),\\theta g_2(x)+(1-\\theta)g_2(z), ... \\theta g_n(x)+(1-\\theta)g_n(z)) &\\leq \\theta  h(g_1(x),g_2(x),..,g_n(x)) + (1-\\theta) h(g_1(z),g_2(z),..,g_n(z)) \\\\\n",
    "&  \\leq \\theta{f(x)+(1-\\theta)f(z)}\n",
    "\\end{align}\n",
    "$\n",
    "<br>\n",
    "<br>\n",
    "Becuase $g_i$ is affine function, we have:\n",
    "<br>\n",
    "<br>\n",
    "$\n",
    "g_n(\\theta x + (1-\\theta)z) = \\theta g_n(x) + (1-\\theta)g_n(z)\n",
    "$\n",
    "<br>\n",
    "<br>\n",
    "Thus, so we have:\n",
    "<br>\n",
    "<br>\n",
    "$\n",
    "\\begin{align}\n",
    "h(g_1(\\theta x + (1-\\theta)z),g_2(g_n(\\theta x + (1-\\theta)z)),...g_n(\\theta x + (1-\\theta)z))& = h(\\theta g_1(x)+(1-\\theta)g_1(z),\\theta g_2(x)+(1-\\theta)g_2(z), ... \\theta g_n(x)+(1-\\theta)g_n(z))\\\\\n",
    "f \\big(\\theta x+(1-\\theta)z\\big) & =\n",
    "\\end{align}\n",
    "$\n",
    "<br>\n",
    "<br>\n",
    "Given two inequalities:\n",
    "<br>\n",
    "<br>\n",
    "$\n",
    "h(\\theta g_1(x)+(1-\\theta)g_1(z),\\theta g_2(x)+(1-\\theta)g_2(z), ... \\theta g_n(x)+(1-\\theta)g_n(z)) \\leq \\theta{f(x)+(1-\\theta)f(z)}   \\\\\n",
    "\\\\\n",
    "f \\big(\\theta x+(1-\\theta)z\\big)  = h(\\theta g_1(x)+(1-\\theta)g_1(z),\\theta g_2(x)+(1-\\theta)g_2(z), ... \\theta g_n(x)+(1-\\theta)g_n(z))\n",
    "$\n",
    "<br>\n",
    "<br>\n",
    "Therefore, accodring to the transitivity of equalities:\n",
    "<br>\n",
    "<br>\n",
    "$f \\big(\\theta x+(1-\\theta)z\\big)  \\leq   \\theta{f(x)+(1-\\theta)f(z)}  $\n",
    "<br>\n",
    "<br>\n",
    "$f$ is convex "
   ]
  },
  {
   "cell_type": "markdown",
   "metadata": {},
   "source": [
    "###  $\\cdot h$ is convex and $g_i$ is concave and h is decreasing in its $i$-th compoenent:\n",
    "Proof:\n",
    "<br>\n",
    "Becase $h$ is a convex function, we have:\n",
    "<br>\n",
    "<br>\n",
    "$\n",
    "\\begin{align}\n",
    "h(\\theta g_1(x)+(1-\\theta)g_1(z),\\theta g_2(x)+(1-\\theta)g_2(z), ... \\theta g_n(x)+(1-\\theta)g_n(z)) &\\leq \\theta  h(g_1(x),g_2(x),..,g_n(x)) + (1-\\theta) h(g_1(z),g_2(z),..,g_n(z)) \\\\\n",
    "&  \\leq \\theta{f(x)+(1-\\theta)f(z)}\n",
    "\\end{align}\n",
    "$\n",
    "<br>\n",
    "<br>\n",
    "Becuase $g_i$ is concave, we have:\n",
    "<br>\n",
    "<br>\n",
    "$\n",
    "\\theta g_n(x) + (1-\\theta)g_n(z) \\leq g_n(\\theta x + (1-\\theta)z) \n",
    "$\n",
    "<br>\n",
    "<br>\n",
    "Because $h$ is decreasing in each $i$th compoenent, so we have:\n",
    "<br>\n",
    "<br>\n",
    "$\n",
    "\\begin{align}\n",
    "h(g_1(\\theta x + (1-\\theta)z),g_2(g_n(\\theta x + (1-\\theta)z)),...g_n(\\theta x + (1-\\theta)z))&\\leq h(\\theta g_1(x)+(1-\\theta)g_1(z),\\theta g_2(x)+(1-\\theta)g_2(z), ... \\theta g_n(x)+(1-\\theta)g_n(z))\\\\\n",
    "f \\big(\\theta x+(1-\\theta)z\\big) &\\leq\n",
    "\\end{align}\n",
    "$\n",
    "<br>\n",
    "<br>\n",
    "Therefore, accodring to the transitivity of inequalities:\n",
    "<br>\n",
    "<br>\n",
    "$\n",
    "f \\big(\\theta x+(1-\\theta)z\\big) \\leq h(\\theta g_1(x)+(1-\\theta)g_1(z),\\theta g_2(x)+(1-\\theta)g_2(z), ... \\theta g_n(x)+(1-\\theta)g_n(z)) \\leq \\theta{f(x)+(1-\\theta)f(z)}\n",
    "$\n",
    "<br>\n",
    "<br>\n",
    "$f \\big(\\theta x+(1-\\theta)z\\big)  \\leq   \\theta{f(x)+(1-\\theta)f(z)} $\n",
    "<br>\n",
    "<br>\n",
    "$f$ is convex "
   ]
  },
  {
   "cell_type": "markdown",
   "metadata": {},
   "source": [
    "### 1.3 Answer:"
   ]
  },
  {
   "cell_type": "markdown",
   "metadata": {},
   "source": [
    "Assume the maximum of the convex function $f$ over the polyheron is achieved on a point $x_0$ which is inside the polyhedron, \n",
    "<br>\n",
    "meanwhile it exits two points on the boundary $x_1$ and $x_2$ which the connecting line of them passes through $x_0$:\n",
    "<br>\n",
    "<br>\n",
    "$$x_0 = \\lambda x_1 + (1-\\lambda) x_2  \\ \\ \\ \\ \\ \\ \\  \\  \\ \\ \\ \\ \\ \\ \\  \\ \\ \\ \\ \\ \\  \\ \\ \\ \\ \\ \\ \\  \\  \\ \\ \\ \\ \\ \\ \\ \\  \\ \\ \\ \\ \\ \\ \\ \\ \\ \\ \\ \\ \\ \\  \\  \\ \\ \\ \\ \\ \\ \\ (1)$$ \n",
    "therefore , due to the properties convexity:\n",
    "<br>\n",
    "<br>\n",
    "$$\n",
    "f(\\lambda x_1 + (1-\\lambda) x_2) \\leq \\lambda f(x_1) + (1-\\lambda) f(x_2)    \\ \\ \\ \\ \\ \\ \\  \\ \\ \\ \\ \\ \\ \\  \\  \\ \\ \\ \\ \\ \\ \\     (2)\n",
    "$$\n",
    "<br>\n",
    "Given $f(x_0)$ is the maximum value:\n",
    "<br>\n",
    "<br>\n",
    "$$\n",
    "\\lambda f(x_1) + (1-\\lambda) f(x_2) < \\lambda f(x_0) + (1-\\lambda) f(x_0) = f(x_0)   \\ \\ \\ \\  (3)\n",
    "$$\n",
    "<br>\n",
    "Use the transitive relation of inequalities from (2) , (3):\n",
    "<br>\n",
    "<br>\n",
    "$$\n",
    "f(\\lambda x_1 + (1-\\lambda) x_2) < f(x_0)    \\ \\ \\ \\ \\ \\ \\  \\  \\ \\ \\ \\ \\ \\  \\ \\ \\ \\ \\ \\ \\  \\  \\ \\ \\ \\ \\ \\ \\ \\  \\ \\ \\ \\ \\ \\ \\ \\ \\ \\ \\ \\ \\ \\  \\  \\ \\ \\ \\ \\ \\ \\ (4)\n",
    "$$\n",
    "<br>\n",
    "<br>\n",
    "Inequality (4) shows that $f(\\lambda x_1 + (1-\\lambda) x_2) = f(x_0) < f(x_0)$ which rises the contradition. \n",
    "<br>\n",
    "Therefore, the maximum value cannot be achieved from the interior of the polyheron. \n",
    "\n",
    "Assume the maximum value can be achieved on a point $x_0$ which lies on the edge of the polyhedron, \n",
    "<br>\n",
    "meanwhile we can find two points $x_1$ and $x_2$ (two vertices on that edege) \n",
    "whose connecting segment goes through $x_0$, \n",
    "<br>\n",
    "we can use the same proof to show it encounters the similar contradiction.\n",
    "<br>\n",
    "In conclusion, the maximum of a convex function f over the polyhedron P \n",
    "can only be found on one of its vertices. "
   ]
  },
  {
   "cell_type": "markdown",
   "metadata": {},
   "source": [
    "## 2. Convexity II"
   ]
  },
  {
   "cell_type": "markdown",
   "metadata": {},
   "source": [
    "### 2.1 Answer:"
   ]
  },
  {
   "cell_type": "code",
   "execution_count": 32,
   "metadata": {},
   "outputs": [
    {
     "data": {
      "image/png": "[encoded data removed]",
      "text/plain": [
       "<Figure size 432x288 with 1 Axes>"
      ]
     },
     "metadata": {
      "needs_background": "light"
     },
     "output_type": "display_data"
    }
   ],
   "source": [
    "import matplotlib.pyplot as plt\n",
    "import numpy as np\n",
    "\n",
    "x1 = np.arange(-5,5,1)\n",
    "x2 = 1- x1\n",
    "plt.plot(x1,x2)\n",
    "plt.xlim(0,1)\n",
    "plt.ylim(0,1)\n",
    "x1_star = 1/2\n",
    "x2_star = 1/2\n",
    "plt.plot(x1_star, x2_star,color ='green', marker='o')\n",
    "y1 = 10\n",
    "plt.fill_between(x1, x2, y1, color='blue', alpha='0.5')\n",
    "plt.show()"
   ]
  },
  {
   "cell_type": "markdown",
   "metadata": {},
   "source": [
    "### 2.2 Answer:"
   ]
  },
  {
   "cell_type": "code",
   "execution_count": 94,
   "metadata": {},
   "outputs": [],
   "source": [
    "import random\n",
    "w1 =random.sample(range(-2000, 2000), 4000)\n",
    "w2 =random.sample(range(-2000,2000),4000)\n",
    "g = np.ones(4000) - np.array(w1)-np.array(w2)\n",
    "f = np.array(w1)**2+ np.array(w2)**2\n",
    "index = np.where(g<=0)\n",
    "f_fe  = f[index]\n",
    "g_fe  = g[index]"
   ]
  },
  {
   "cell_type": "code",
   "execution_count": 96,
   "metadata": {},
   "outputs": [
    {
     "data": {
      "image/png": "[encoded data removed]",
      "text/plain": [
       "<Figure size 432x288 with 1 Axes>"
      ]
     },
     "metadata": {
      "needs_background": "light"
     },
     "output_type": "display_data"
    }
   ],
   "source": [
    "plt.plot([g],[f],marker='o',markersize=15,color='red')\n",
    "plt.plot([g_fe],[f_fe],marker='o',markersize=15,color = 'blue')\n",
    "plt.show()"
   ]
  },
  {
   "cell_type": "markdown",
   "metadata": {},
   "source": [
    "### 2.3 Answer:"
   ]
  },
  {
   "cell_type": "markdown",
   "metadata": {},
   "source": [
    "Use the KKT conditions\n",
    "<br>\n",
    "Lagrangian stationary:\n",
    "<br>\n",
    "<br>\n",
    "$\n",
    "\\frac{\\partial \\mathcal{L}{(\\mathbf{x},\\lambda)}}{\\partial x_1} = \\frac{d \\ x_1^2+x_2^2 + \\lambda (1-x_1-x_2)}{dx_1} = 2x_1 - \\lambda = 0 \\\\\n",
    "\\frac{\\partial \\mathcal{L}{(\\mathbf{x},\\lambda)}}{\\partial x_2} = \\frac{d \\ x_1^2+x_2^2 + \\lambda (1-x_1-x_2)}{dx_2} = 2x_2 - \\lambda = 0\n",
    "$\n",
    "<br>\n",
    "$\n",
    "x_1 = \\frac{\\lambda}{2}  \\\\\n",
    "x_2 = \\frac{\\lambda}{2}\n",
    "$"
   ]
  },
  {
   "cell_type": "markdown",
   "metadata": {},
   "source": [
    "Complementary Slackness:\n",
    "$\\lambda = 0$ or  $g(\\mathbf{x}) = 0$\n",
    "<br>\n",
    "<br>\n",
    "if $\\lambda = 0$, then the primal feasibility will not hold: $1 - 0 - 0 > 0$\n",
    "<br>\n",
    "<br>\n",
    "then we have:\n",
    "$\n",
    "g(\\mathbf{x}) = 0, 1 - x_1 - x_2 = 0   \\\\\n",
    "\\frac{\\lambda}{2} + \\frac{\\lambda}{2} = 1, \\lambda = 1 \n",
    "$\n",
    "<br>\n",
    "<br>\n",
    "$\n",
    "x_1 = 0.5 , x_2 = 0.5\n",
    "$\n",
    "<br>\n",
    "<br>\n",
    "$\n",
    "y^* = 0 \\\\\n",
    "z^* = 0.5 \\\\\n",
    "\\lambda ^* = 1 \\\\\n",
    "$"
   ]
  },
  {
   "cell_type": "code",
   "execution_count": 93,
   "metadata": {},
   "outputs": [
    {
     "data": {
      "image/png": "[encoded data removed]",
      "text/plain": [
       "<Figure size 432x288 with 1 Axes>"
      ]
     },
     "metadata": {
      "needs_background": "light"
     },
     "output_type": "display_data"
    }
   ],
   "source": [
    "plt.plot(0, 0.5,color ='green', marker='o')\n",
    "y = np.arange(0,5)\n",
    "z = 0.5 -y\n",
    "\n",
    "plt.plot(y,z, color = 'blue')\n",
    "plt.show()"
   ]
  },
  {
   "cell_type": "markdown",
   "metadata": {},
   "source": [
    "### 2.4 Answer:"
   ]
  },
  {
   "cell_type": "markdown",
   "metadata": {},
   "source": [
    "$q(\\lambda) = \\text{min}_x \\left[f(x)+\\lambda g(x)\\right]$"
   ]
  },
  {
   "cell_type": "markdown",
   "metadata": {},
   "source": [
    "For any fixed value $\\mathbf{x}$, the quantity inside the brackets is an affine function of $\\lambda$, because $g(x)$ and $f(x)$  are just constants as far as only $\\lambda$ is concerned. Therefore, $q(\\lambda)$ is concave"
   ]
  },
  {
   "cell_type": "markdown",
   "metadata": {},
   "source": [
    "## 3. Support Vector Machine"
   ]
  },
  {
   "cell_type": "markdown",
   "metadata": {},
   "source": [
    "### 3.1 Answer:"
   ]
  },
  {
   "cell_type": "markdown",
   "metadata": {},
   "source": [
    "$$f(w,\\epsilon_i) =\\min_w \\left(\\frac{1}{2} \\|w\\|_2^2 + C\\cdot\\sum_i\\epsilon_i\\right)$$\n",
    "subject to:$$ g([w,b],\\epsilon) = (1-\\epsilon_i)  - y_i(w^Tx_i + b) \\leq 0 \\; \\forall i \\in \\{1,...,n\\}$$\n",
    "<br>\n",
    "$$ h(\\epsilon) = -\\epsilon_i \\leq 0 \\hspace{0.2 cm} \\forall i \\in \\{1,...,n\\} $$"
   ]
  },
  {
   "cell_type": "markdown",
   "metadata": {},
   "source": [
    "leading to the Lagrangian:\n",
    "$$\n",
    "\\mathcal{L}(w,b,\\epsilon, a,r) = \\frac{1}{2}{ \\|w\\|_2^2} + C\\sum_i\\epsilon_i - \\sum_i\\alpha_i\\left[y_i(w^Tx_i + b) -  (1-\\epsilon_i)\\right] - \\sum_i r_i \\epsilon_i\n",
    "$$"
   ]
  },
  {
   "cell_type": "markdown",
   "metadata": {},
   "source": [
    "KKT conditions:\n",
    ">- Lagrangian stationarity:\n",
    "<br>\n",
    "$\n",
    "\\begin{align}\n",
    "&\\nabla_w\\mathcal{L}(w,b,\\epsilon,a,r) = w -\\sum_i\\alpha_i y_ix_i = 0 \\ \\ \\ \\rightarrow  w = \\sum_i\\alpha_i y_ix_i \\\\\n",
    "&\\frac{\\partial}{\\partial b}\\mathcal{L}(w,b,\\epsilon,a,r)  =  - \\sum_i\\alpha_iy_i = 0 \\ \\ \\ \\rightarrow  \\sum_i\\alpha_iy_i = 0  \\\\\n",
    "&\\frac{\\partial}{\\partial \\epsilon} =  C -  \\alpha_i -  r_i =0  \\ \\ \\ \\rightarrow   C =\\alpha_i + r_i\n",
    "\\end{align}\n",
    "$\n",
    "<br>\n",
    "<br>\n",
    ">- dual feasibility:\n",
    "<br>\n",
    "<br>\n",
    "$\n",
    "\\alpha_i^* \\geq 0 \\\\\n",
    "r_i^* \\geq 0\n",
    "$\n",
    "<br>\n",
    "<br>\n",
    ">- complementary slackness:\n",
    "<br>\n",
    "<br>\n",
    "$\\alpha_i^*\\left[(1-\\epsilon_i^*)  - y_i(w^Tx_i + b^*)\\right]  = 0 \\\\\n",
    "r_i\\epsilon_i^*  = 0 \n",
    "$\n",
    "<br>\n",
    "<br>\n",
    ">- primal feasibility:\n",
    "<br>\n",
    "<br>\n",
    "$ g([w,b],\\epsilon) = (1-\\epsilon_i)  - y_i(w^Tx_i + b) \\leq 0 \\; \\forall i \\in \\{1,...,n\\}$\n",
    "<br>\n",
    "$ h(\\epsilon) = -\\epsilon_i \\leq 0 \\hspace{0.2 cm} \\forall i \\in \\{1,...,n\\} $"
   ]
  },
  {
   "cell_type": "markdown",
   "metadata": {},
   "source": [
    "dual objective:\n",
    "$\\mathcal{L}(w,b,\\epsilon, a,r) = \\frac{1}{2}{ \\|w\\|_2^2} + C\\sum_i\\epsilon_i - \\sum_i\\alpha_iy_iw^Tx_i - \\sum_i\\alpha_iy_i b + \\sum_i\\alpha_i(1-\\epsilon_i) - \\sum_i r_i \\epsilon_i$"
   ]
  },
  {
   "cell_type": "markdown",
   "metadata": {},
   "source": [
    "$\\mathcal{L}(w,b,\\epsilon, a,r) = \\frac{1}{2}{ \\|w\\|_2^2} + C\\sum_i\\epsilon_i - { \\|w\\|_2^2}  + \\sum_i\\alpha_i(1-\\epsilon_i) - \\sum_i r_i \\epsilon_i$\n",
    "<br>\n",
    "<br>\n",
    "$\\mathcal{L}(w,b,\\epsilon, a,r) = -\\frac{1}{2}{ \\|w\\|_2^2} + C\\sum_i\\epsilon_i   + \\sum_i\\alpha_i-\\sum_i\\alpha_i\\epsilon_i - \\sum_i r_i \\epsilon_i$\n",
    "<br>\n",
    "<br>\n",
    "$\\mathcal{L}(w,b,\\epsilon, a,r) = -\\frac{1}{2}{ \\|w\\|_2^2} + C\\sum_i\\epsilon_i   + \\sum_i\\alpha_i-\\sum_i (\\alpha_i+  r_i) \\epsilon_i$\n",
    "<br>\n",
    "<br>\n",
    "$\n",
    "\\begin{align}\n",
    "\\mathcal{L}(w,b,\\epsilon, a,r) &= -\\frac{1}{2}{ \\|w\\|_2^2}  + \\sum_i\\alpha_i \\\\\n",
    "                               &=  -\\frac{1}{2}\\sum_{j=1}^p\\lambda_j^2 + \\sum_i\\alpha_i \\\\\n",
    "                               &=-\\frac{1}{2}\\sum_{j=1}^p\\bigg({\\sum_{i=1}^n \\alpha_iy_ix_{ij}}\\bigg)^2 + \\sum_i\\alpha_i \\\\\n",
    "                               &=-\\frac{1}{2}\\sum_{j=1}^p\\sum_{i=1}^n\\sum_{k=1}^n\\alpha_i\\alpha_k y_i  y_k x_{ij} x_{kj} + \\sum_i\\alpha_i\n",
    "\\end{align}\n",
    "$\n",
    "<br>\n",
    "<br>\n",
    "\n"
   ]
  },
  {
   "cell_type": "code",
   "execution_count": null,
   "metadata": {},
   "outputs": [],
   "source": []
  },
  {
   "cell_type": "code",
   "execution_count": null,
   "metadata": {},
   "outputs": [],
   "source": []
  },
  {
   "cell_type": "code",
   "execution_count": null,
   "metadata": {},
   "outputs": [],
   "source": []
  },
  {
   "cell_type": "code",
   "execution_count": null,
   "metadata": {},
   "outputs": [],
   "source": []
  }
 ],
 "metadata": {
  "kernelspec": {
   "display_name": "Python 3",
   "language": "python",
   "name": "python3"
  },
  "language_info": {
   "codemirror_mode": {
    "name": "ipython",
    "version": 3
   },
   "file_extension": ".py",
   "mimetype": "text/x-python",
   "name": "python",
   "nbconvert_exporter": "python",
   "pygments_lexer": "ipython3",
   "version": "3.7.1"
  }
 },
 "nbformat": 4,
 "nbformat_minor": 2
}
